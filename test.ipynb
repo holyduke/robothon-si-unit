{
 "metadata": {
  "language_info": {
   "codemirror_mode": {
    "name": "ipython",
    "version": 3
   },
   "file_extension": ".py",
   "mimetype": "text/x-python",
   "name": "python",
   "nbconvert_exporter": "python",
   "pygments_lexer": "ipython3",
   "version": "3.7.3-final"
  },
  "orig_nbformat": 2,
  "kernelspec": {
   "name": "python3",
   "display_name": "Python 3",
   "language": "python"
  }
 },
 "nbformat": 4,
 "nbformat_minor": 2,
 "cells": [
  {
   "cell_type": "code",
   "execution_count": 76,
   "metadata": {},
   "outputs": [
    {
     "output_type": "stream",
     "name": "stderr",
     "text": [
      "[nltk_data] Downloading package punkt to\n[nltk_data]     C:\\Users\\Papooch\\AppData\\Roaming\\nltk_data...\n[nltk_data]   Package punkt is already up-to-date!\n"
     ]
    },
    {
     "output_type": "execute_result",
     "data": {
      "text/plain": [
       "True"
      ]
     },
     "metadata": {},
     "execution_count": 76
    }
   ],
   "source": [
    "import nltk\n",
    "nltk.download('punkt')"
   ]
  },
  {
   "cell_type": "code",
   "execution_count": 77,
   "metadata": {},
   "outputs": [
    {
     "output_type": "execute_result",
     "data": {
      "text/plain": [
       "['ahoj',\n",
       " 'jak',\n",
       " 'se',\n",
       " 'mas',\n",
       " 'ja',\n",
       " 'se',\n",
       " 'mam',\n",
       " 'dobre',\n",
       " 'jo',\n",
       " 'tak',\n",
       " 'to',\n",
       " 'je',\n",
       " 'spica',\n",
       " 'slepica',\n",
       " 'escryaieecrzyai']"
      ]
     },
     "metadata": {},
     "execution_count": 77
    }
   ],
   "source": [
    "from unidecode import unidecode\n",
    "sentence = \"Ahoj jak se máš já se mám dobře jo tak to je špica slepica ěščřýáíéĚČŘŽÝÁÍ\"\n",
    "sentence = unidecode(sentence.lower())\n",
    "tokens = nltk.word_tokenize(sentence)\n",
    "tokens\n"
   ]
  },
  {
   "cell_type": "code",
   "execution_count": 89,
   "metadata": {},
   "outputs": [
    {
     "output_type": "stream",
     "name": "stdout",
     "text": [
      "Column names are context, type, identifier, url, breadcrumbs, mainEntity, mainContentOfPage, thumbnailUrl, date, actRunId, category\n",
      "hovno\n",
      "Processed 586 lines.\n"
     ]
    }
   ],
   "source": [
    "from datareader.csvreader import Csvreader \n",
    "csv_reader = Csvreader(\"data/\")\n",
    "alza_eshop = csv_reader.parse_csv(\"czc.csv\")"
   ]
  },
  {
   "cell_type": "code",
   "execution_count": 91,
   "metadata": {},
   "outputs": [
    {
     "output_type": "error",
     "ename": "AttributeError",
     "evalue": "'Product' object has no attribute 'id'",
     "traceback": [
      "\u001b[1;31m---------------------------------------------------------------------------\u001b[0m",
      "\u001b[1;31mAttributeError\u001b[0m                            Traceback (most recent call last)",
      "\u001b[1;32m<ipython-input-91-9a6385771352>\u001b[0m in \u001b[0;36m<module>\u001b[1;34m\u001b[0m\n\u001b[1;32m----> 1\u001b[1;33m \u001b[0malza_eshop\u001b[0m\u001b[1;33m.\u001b[0m\u001b[0mproducts\u001b[0m\u001b[1;33m[\u001b[0m\u001b[1;36m0\u001b[0m\u001b[1;33m]\u001b[0m\u001b[1;33m.\u001b[0m\u001b[0mid\u001b[0m\u001b[1;33m\u001b[0m\u001b[1;33m\u001b[0m\u001b[0m\n\u001b[0m",
      "\u001b[1;31mAttributeError\u001b[0m: 'Product' object has no attribute 'id'"
     ]
    }
   ],
   "source": [
    "alza_eshop.products[0].id"
   ]
  }
 ]
}