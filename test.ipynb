{
 "metadata": {
  "language_info": {
   "codemirror_mode": {
    "name": "ipython",
    "version": 3
   },
   "file_extension": ".py",
   "mimetype": "text/x-python",
   "name": "python",
   "nbconvert_exporter": "python",
   "pygments_lexer": "ipython3",
   "version": "3.7.3-final"
  },
  "orig_nbformat": 2,
  "kernelspec": {
   "name": "python3",
   "display_name": "Python 3",
   "language": "python"
  }
 },
 "nbformat": 4,
 "nbformat_minor": 2,
 "cells": [
  {
   "cell_type": "code",
   "execution_count": 7,
   "metadata": {},
   "outputs": [
    {
     "output_type": "stream",
     "name": "stdout",
     "text": [
      "Column names are context, type, identifier, url, breadcrumbs, mainEntity, mainContentOfPage, thumbnailUrl, date, actRunId, category\n",
      "Processed 477 lines.\n"
     ]
    }
   ],
   "source": [
    "from datareader.csvreader import Csvreader \n",
    "from preprocessor import Preprocessor\n",
    "csv_reader = Csvreader(\"data/\")\n",
    "alza = csv_reader.parse_csv(\"alza.csv\")\n",
    "#czc = csv_reader.parse_csv(\"mall.csv\")\n",
    "preprocessor = Preprocessor()"
   ]
  },
  {
   "cell_type": "code",
   "execution_count": 8,
   "metadata": {},
   "outputs": [],
   "source": [
    "preprocessor.preprocess_data(alza.products)\n",
    "#preprocessor.preprocess_data(mironet.products)"
   ]
  },
  {
   "cell_type": "code",
   "execution_count": 15,
   "metadata": {},
   "outputs": [
    {
     "output_type": "execute_result",
     "data": {
      "text/plain": [
       "<function searcher.searcher.search(ix, tags)>"
      ]
     },
     "metadata": {},
     "execution_count": 15
    }
   ],
   "source": [
    "from searcher.searcher import create_index, add_documents, search"
   ]
  },
  {
   "cell_type": "code",
   "execution_count": 10,
   "metadata": {},
   "outputs": [
    {
     "output_type": "execute_result",
     "data": {
      "text/plain": [
       "FileIndex(FileStorage('index/alza'), 'MAIN')"
      ]
     },
     "metadata": {},
     "execution_count": 10
    }
   ],
   "source": [
    "alza_ix = create_index('alza')\n",
    "alza_ix"
   ]
  },
  {
   "cell_type": "code",
   "execution_count": 29,
   "metadata": {},
   "outputs": [
    {
     "output_type": "execute_result",
     "data": {
      "text/plain": [
       "FileIndex(FileStorage('index/mironet'), 'MAIN')"
      ]
     },
     "metadata": {},
     "execution_count": 29
    }
   ],
   "source": [
    "#mironet_ix = create_index('mironet')\n",
    "#mironet_ix"
   ]
  },
  {
   "cell_type": "code",
   "execution_count": 11,
   "metadata": {},
   "outputs": [],
   "source": [
    "docs = alza.products"
   ]
  },
  {
   "cell_type": "code",
   "execution_count": 13,
   "metadata": {},
   "outputs": [
    {
     "output_type": "stream",
     "name": "stdout",
     "text": [
      "added 10 documents...\n",
      "added 20 documents...\n",
      "added 30 documents...\n",
      "added 40 documents...\n",
      "added 50 documents...\n",
      "added 60 documents...\n",
      "added 70 documents...\n",
      "added 80 documents...\n",
      "added 90 documents...\n",
      "added 100 documents...\n",
      "added 110 documents...\n",
      "added 120 documents...\n",
      "added 130 documents...\n",
      "added 140 documents...\n",
      "added 150 documents...\n",
      "added 160 documents...\n",
      "added 170 documents...\n",
      "added 180 documents...\n",
      "added 190 documents...\n",
      "added 200 documents...\n",
      "added 210 documents...\n",
      "added 220 documents...\n",
      "added 230 documents...\n",
      "added 240 documents...\n",
      "added 250 documents...\n",
      "added 260 documents...\n",
      "added 270 documents...\n",
      "added 280 documents...\n",
      "added 290 documents...\n",
      "added 300 documents...\n",
      "added 310 documents...\n",
      "added 320 documents...\n",
      "added 330 documents...\n",
      "added 340 documents...\n",
      "added 350 documents...\n",
      "added 360 documents...\n",
      "added 370 documents...\n",
      "added 380 documents...\n",
      "added 390 documents...\n",
      "added 400 documents...\n",
      "added 410 documents...\n",
      "added 420 documents...\n",
      "added 430 documents...\n",
      "added 440 documents...\n",
      "added 450 documents...\n",
      "added 460 documents...\n",
      "added 470 documents...\n",
      "added 475 documents in total.\n"
     ]
    }
   ],
   "source": [
    "add_documents(alza_ix, docs)"
   ]
  },
  {
   "cell_type": "code",
   "execution_count": 14,
   "metadata": {},
   "outputs": [
    {
     "output_type": "error",
     "ename": "NameError",
     "evalue": "name 'MultiWeighting' is not defined",
     "traceback": [
      "\u001b[1;31m---------------------------------------------------------------------------\u001b[0m",
      "\u001b[1;31mNameError\u001b[0m                                 Traceback (most recent call last)",
      "\u001b[1;32m<ipython-input-14-1eada0167115>\u001b[0m in \u001b[0;36m<module>\u001b[1;34m\u001b[0m\n\u001b[1;32m----> 1\u001b[1;33m \u001b[0msearch\u001b[0m\u001b[1;33m(\u001b[0m\u001b[0malza_ix\u001b[0m\u001b[1;33m,\u001b[0m \u001b[1;33m{\u001b[0m\u001b[1;34m\"name\"\u001b[0m\u001b[1;33m:\u001b[0m\u001b[1;33m[\u001b[0m\u001b[1;34m'samsung'\u001b[0m\u001b[1;33m,\u001b[0m \u001b[1;34m'ue55tu7172'\u001b[0m\u001b[1;33m]\u001b[0m\u001b[1;33m,\u001b[0m \u001b[1;34m\"numbers\"\u001b[0m\u001b[1;33m:\u001b[0m\u001b[1;33m[\u001b[0m\u001b[1;34m'3840'\u001b[0m\u001b[1;33m,\u001b[0m \u001b[1;34m'2160'\u001b[0m\u001b[1;33m,\u001b[0m \u001b[1;34m'55\"'\u001b[0m\u001b[1;33m]\u001b[0m\u001b[1;33m,\u001b[0m \u001b[1;34m\"strings\"\u001b[0m\u001b[1;33m:\u001b[0m\u001b[1;33m[\u001b[0m\u001b[1;33m]\u001b[0m\u001b[1;33m}\u001b[0m\u001b[1;33m)\u001b[0m\u001b[1;33m\u001b[0m\u001b[1;33m\u001b[0m\u001b[0m\n\u001b[0m",
      "\u001b[1;32md:\\Ondra\\Stuff\\Projects\\Robothon\\robothon-si-unit\\searcher\\searcher.py\u001b[0m in \u001b[0;36msearch\u001b[1;34m(ix, tags)\u001b[0m\n\u001b[0;32m     37\u001b[0m \u001b[1;33m\u001b[0m\u001b[0m\n\u001b[0;32m     38\u001b[0m \u001b[1;32mdef\u001b[0m \u001b[0msearch\u001b[0m\u001b[1;33m(\u001b[0m\u001b[0mix\u001b[0m\u001b[1;33m,\u001b[0m \u001b[0mtags\u001b[0m\u001b[1;33m)\u001b[0m\u001b[1;33m:\u001b[0m\u001b[1;33m\u001b[0m\u001b[1;33m\u001b[0m\u001b[0m\n\u001b[1;32m---> 39\u001b[1;33m     \u001b[0mmw\u001b[0m \u001b[1;33m=\u001b[0m \u001b[0mMultiWeighting\u001b[0m\u001b[1;33m(\u001b[0m\u001b[0mscoring\u001b[0m\u001b[1;33m.\u001b[0m\u001b[0mFrequency\u001b[0m\u001b[1;33m(\u001b[0m\u001b[1;33m)\u001b[0m\u001b[1;33m,\u001b[0m \u001b[0mname\u001b[0m\u001b[1;33m=\u001b[0m\u001b[0mscoring\u001b[0m\u001b[1;33m.\u001b[0m\u001b[0mBM25F\u001b[0m\u001b[1;33m(\u001b[0m\u001b[0mB\u001b[0m\u001b[1;33m=\u001b[0m\u001b[1;36m1\u001b[0m\u001b[1;33m,\u001b[0m \u001b[0mK1\u001b[0m\u001b[1;33m=\u001b[0m\u001b[1;36m3\u001b[0m\u001b[1;33m)\u001b[0m\u001b[1;33m)\u001b[0m\u001b[1;33m\u001b[0m\u001b[1;33m\u001b[0m\u001b[0m\n\u001b[0m\u001b[0;32m     40\u001b[0m \u001b[1;33m\u001b[0m\u001b[0m\n\u001b[0;32m     41\u001b[0m     \u001b[0mmatch\u001b[0m \u001b[1;33m=\u001b[0m \u001b[1;33m[\u001b[0m\u001b[1;33m]\u001b[0m\u001b[1;33m\u001b[0m\u001b[1;33m\u001b[0m\u001b[0m\n",
      "\u001b[1;31mNameError\u001b[0m: name 'MultiWeighting' is not defined"
     ]
    }
   ],
   "source": [
    "search(alza_ix, {\"name\":['samsung', 'ue55tu7172'], \"numbers\":['3840', '2160', '55\"'], \"strings\":[]})"
   ]
  },
  {
   "cell_type": "code",
   "execution_count": null,
   "metadata": {},
   "outputs": [],
   "source": []
  }
 ]
}