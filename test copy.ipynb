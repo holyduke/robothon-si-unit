{
 "metadata": {
  "language_info": {
   "codemirror_mode": {
    "name": "ipython",
    "version": 3
   },
   "file_extension": ".py",
   "mimetype": "text/x-python",
   "name": "python",
   "nbconvert_exporter": "python",
   "pygments_lexer": "ipython3",
   "version": "3.8.7-final"
  },
  "orig_nbformat": 2,
  "kernelspec": {
   "name": "python3",
   "display_name": "Python 3.8.7 64-bit",
   "metadata": {
    "interpreter": {
     "hash": "b9408507c665bbde2e277a3a1ee96f1f2ce66f5119b46169b57bc26ec7d9794c"
    }
   }
  }
 },
 "nbformat": 4,
 "nbformat_minor": 2,
 "cells": [
  {
   "cell_type": "code",
   "execution_count": 5,
   "metadata": {
    "tags": []
   },
   "outputs": [
    {
     "output_type": "stream",
     "name": "stdout",
     "text": [
      "Column names are context, type, identifier, url, breadcrumbs, mainEntity, mainContentOfPage, thumbnailUrl, date, actRunId, category\n",
      "Processed 1713 lines.\n",
      "Column names are context, type, identifier, url, breadcrumbs, mainEntity, mainContentOfPage, thumbnailUrl, date, actRunId, category\n",
      "Processed 477 lines.\n",
      "Column names are context, type, identifier, url, breadcrumbs, mainEntity, mainContentOfPage, thumbnailUrl, date, actRunId, category\n",
      "Processed 785 lines.\n",
      "Column names are context, type, identifier, url, breadcrumbs, mainEntity, mainContentOfPage, thumbnailUrl, date, actRunId, category\n",
      "Processed 1593 lines.\n"
     ]
    }
   ],
   "source": [
    "from datareader.csvreader import Csvreader \r\n",
    "\r\n",
    "csv_reader = Csvreader(\"data/\")\r\n",
    "czc = csv_reader.parse_csv(\"czc.csv\")\r\n",
    "alza = csv_reader.parse_csv(\"alza.csv\")\r\n",
    "mironet = csv_reader.parse_csv(\"mironet.csv\")\r\n",
    "mall = csv_reader.parse_csv(\"mall.csv\")\r\n",
    "fckng_mega_shop = [*czc.products, *alza.products, *mironet.products,  *mironet.products]"
   ]
  },
  {
   "cell_type": "code",
   "execution_count": 6,
   "metadata": {
    "tags": []
   },
   "outputs": [],
   "source": [
    "class Preprocessor():\n",
    "    def __init__(self):\n",
    "        pass\n",
    "\n",
    "    def preprocess_data(self, data):\n",
    "        %debug\n",
    "        print(data)\n",
    "        for product in data:\n",
    "            product[\"key_numbers\"] = self._extract_numbers(product)\n",
    "\n",
    "\n",
    "    def _extract_numbers(self, product):\n",
    "        return \"1 2 3\""
   ]
  },
  {
   "cell_type": "code",
   "execution_count": 13,
   "metadata": {
    "tags": [
     "outputPrepend"
    ]
   },
   "outputs": [
    {
     "output_type": "error",
     "ename": "Error",
     "evalue": "connect ECONNREFUSED 127.0.0.1:50786",
     "traceback": [
      "Error: connect ECONNREFUSED 127.0.0.1:50786",
      "at TCPConnectWrap.afterConnect [as oncomplete] (net.js:1134:16)"
     ]
    }
   ],
   "source": [
    "\n",
    "preprocessor = Preprocessor()\n",
    "preprocessor.preprocess_data(fckng_mega_shop)"
   ]
  }
 ]
}